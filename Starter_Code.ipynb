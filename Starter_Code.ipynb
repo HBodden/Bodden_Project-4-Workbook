{
 "cells": [
  {
   "cell_type": "markdown",
   "metadata": {
    "id": "3R17raCASjAN"
   },
   "source": [
    "## Preprocessing"
   ]
  },
  {
   "cell_type": "code",
   "execution_count": null,
   "metadata": {
    "colab": {
     "base_uri": "https://localhost:8080/"
    },
    "executionInfo": {
     "elapsed": 25722,
     "status": "ok",
     "timestamp": 1676937635869,
     "user": {
      "displayName": "Huntley Bodden",
      "userId": "05864062053823960492"
     },
     "user_tz": 300
    },
    "id": "aoXBC_zQTG8H",
    "outputId": "57999585-98e7-4dfa-c4fc-f32bcedfdd68"
   },
   "outputs": [],
   "source": [
    "# from google.colab import drive\n",
    "# drive.mount('/gdrive')\n",
    "# %cd /gdrive"
   ]
  },
  {
   "cell_type": "code",
   "execution_count": 1,
   "metadata": {
    "colab": {
     "base_uri": "https://localhost:8080/",
     "height": 206
    },
    "executionInfo": {
     "elapsed": 7169,
     "status": "ok",
     "timestamp": 1676937645860,
     "user": {
      "displayName": "Huntley Bodden",
      "userId": "05864062053823960492"
     },
     "user_tz": 300
    },
    "id": "AFYTiEtxSjAT",
    "outputId": "43b06d84-ef10-480b-8681-4ebd9f933b1e"
   },
   "outputs": [
    {
     "data": {
      "text/html": [
       "<div>\n",
       "<style scoped>\n",
       "    .dataframe tbody tr th:only-of-type {\n",
       "        vertical-align: middle;\n",
       "    }\n",
       "\n",
       "    .dataframe tbody tr th {\n",
       "        vertical-align: top;\n",
       "    }\n",
       "\n",
       "    .dataframe thead th {\n",
       "        text-align: right;\n",
       "    }\n",
       "</style>\n",
       "<table border=\"1\" class=\"dataframe\">\n",
       "  <thead>\n",
       "    <tr style=\"text-align: right;\">\n",
       "      <th></th>\n",
       "      <th>Unnamed: 0</th>\n",
       "      <th>county</th>\n",
       "      <th>state</th>\n",
       "      <th>percentage16_Donald_Trump</th>\n",
       "      <th>percentage16_Hillary_Clinton</th>\n",
       "      <th>total_votes16</th>\n",
       "      <th>votes16_Donald_Trump</th>\n",
       "      <th>votes16_Hillary_Clinton</th>\n",
       "      <th>percentage20_Donald_Trump</th>\n",
       "      <th>percentage20_Joe_Biden</th>\n",
       "      <th>...</th>\n",
       "      <th>Walk</th>\n",
       "      <th>OtherTransp</th>\n",
       "      <th>WorkAtHome</th>\n",
       "      <th>MeanCommute</th>\n",
       "      <th>Employed</th>\n",
       "      <th>PrivateWork</th>\n",
       "      <th>PublicWork</th>\n",
       "      <th>SelfEmployed</th>\n",
       "      <th>FamilyWork</th>\n",
       "      <th>Unemployment</th>\n",
       "    </tr>\n",
       "  </thead>\n",
       "  <tbody>\n",
       "    <tr>\n",
       "      <th>0</th>\n",
       "      <td>0</td>\n",
       "      <td>Abbeville</td>\n",
       "      <td>SC</td>\n",
       "      <td>0.629</td>\n",
       "      <td>0.346</td>\n",
       "      <td>10724.0</td>\n",
       "      <td>6742.0</td>\n",
       "      <td>3712.0</td>\n",
       "      <td>0.661</td>\n",
       "      <td>0.330</td>\n",
       "      <td>...</td>\n",
       "      <td>1.8</td>\n",
       "      <td>1.8</td>\n",
       "      <td>6.5</td>\n",
       "      <td>25.8</td>\n",
       "      <td>9505.0</td>\n",
       "      <td>78.8</td>\n",
       "      <td>13.3</td>\n",
       "      <td>7.8</td>\n",
       "      <td>0.1</td>\n",
       "      <td>9.4</td>\n",
       "    </tr>\n",
       "    <tr>\n",
       "      <th>1</th>\n",
       "      <td>1</td>\n",
       "      <td>Acadia</td>\n",
       "      <td>LA</td>\n",
       "      <td>0.773</td>\n",
       "      <td>0.206</td>\n",
       "      <td>27386.0</td>\n",
       "      <td>21159.0</td>\n",
       "      <td>5638.0</td>\n",
       "      <td>0.795</td>\n",
       "      <td>0.191</td>\n",
       "      <td>...</td>\n",
       "      <td>1.6</td>\n",
       "      <td>2.2</td>\n",
       "      <td>2.5</td>\n",
       "      <td>27.6</td>\n",
       "      <td>24982.0</td>\n",
       "      <td>80.0</td>\n",
       "      <td>12.1</td>\n",
       "      <td>7.6</td>\n",
       "      <td>0.3</td>\n",
       "      <td>8.9</td>\n",
       "    </tr>\n",
       "    <tr>\n",
       "      <th>2</th>\n",
       "      <td>2</td>\n",
       "      <td>Accomack</td>\n",
       "      <td>VA</td>\n",
       "      <td>0.545</td>\n",
       "      <td>0.428</td>\n",
       "      <td>15755.0</td>\n",
       "      <td>8582.0</td>\n",
       "      <td>6737.0</td>\n",
       "      <td>0.542</td>\n",
       "      <td>0.447</td>\n",
       "      <td>...</td>\n",
       "      <td>2.6</td>\n",
       "      <td>1.8</td>\n",
       "      <td>4.5</td>\n",
       "      <td>22.0</td>\n",
       "      <td>13837.0</td>\n",
       "      <td>74.6</td>\n",
       "      <td>18.1</td>\n",
       "      <td>7.1</td>\n",
       "      <td>0.2</td>\n",
       "      <td>5.4</td>\n",
       "    </tr>\n",
       "    <tr>\n",
       "      <th>3</th>\n",
       "      <td>3</td>\n",
       "      <td>Ada</td>\n",
       "      <td>ID</td>\n",
       "      <td>0.479</td>\n",
       "      <td>0.387</td>\n",
       "      <td>195587.0</td>\n",
       "      <td>93748.0</td>\n",
       "      <td>75676.0</td>\n",
       "      <td>0.504</td>\n",
       "      <td>0.465</td>\n",
       "      <td>...</td>\n",
       "      <td>1.5</td>\n",
       "      <td>2.8</td>\n",
       "      <td>6.9</td>\n",
       "      <td>20.4</td>\n",
       "      <td>214984.0</td>\n",
       "      <td>78.3</td>\n",
       "      <td>15.0</td>\n",
       "      <td>6.6</td>\n",
       "      <td>0.1</td>\n",
       "      <td>4.3</td>\n",
       "    </tr>\n",
       "    <tr>\n",
       "      <th>4</th>\n",
       "      <td>4</td>\n",
       "      <td>Adair</td>\n",
       "      <td>IA</td>\n",
       "      <td>0.653</td>\n",
       "      <td>0.300</td>\n",
       "      <td>3759.0</td>\n",
       "      <td>2456.0</td>\n",
       "      <td>1127.0</td>\n",
       "      <td>0.697</td>\n",
       "      <td>0.286</td>\n",
       "      <td>...</td>\n",
       "      <td>2.8</td>\n",
       "      <td>0.4</td>\n",
       "      <td>6.2</td>\n",
       "      <td>22.3</td>\n",
       "      <td>3680.0</td>\n",
       "      <td>73.8</td>\n",
       "      <td>15.3</td>\n",
       "      <td>10.4</td>\n",
       "      <td>0.5</td>\n",
       "      <td>3.0</td>\n",
       "    </tr>\n",
       "  </tbody>\n",
       "</table>\n",
       "<p>5 rows × 51 columns</p>\n",
       "</div>"
      ],
      "text/plain": [
       "   Unnamed: 0     county state  percentage16_Donald_Trump  \\\n",
       "0           0  Abbeville    SC                      0.629   \n",
       "1           1     Acadia    LA                      0.773   \n",
       "2           2   Accomack    VA                      0.545   \n",
       "3           3        Ada    ID                      0.479   \n",
       "4           4      Adair    IA                      0.653   \n",
       "\n",
       "   percentage16_Hillary_Clinton  total_votes16  votes16_Donald_Trump  \\\n",
       "0                         0.346        10724.0                6742.0   \n",
       "1                         0.206        27386.0               21159.0   \n",
       "2                         0.428        15755.0                8582.0   \n",
       "3                         0.387       195587.0               93748.0   \n",
       "4                         0.300         3759.0                2456.0   \n",
       "\n",
       "   votes16_Hillary_Clinton  percentage20_Donald_Trump  percentage20_Joe_Biden  \\\n",
       "0                   3712.0                      0.661                   0.330   \n",
       "1                   5638.0                      0.795                   0.191   \n",
       "2                   6737.0                      0.542                   0.447   \n",
       "3                  75676.0                      0.504                   0.465   \n",
       "4                   1127.0                      0.697                   0.286   \n",
       "\n",
       "   ...  Walk  OtherTransp  WorkAtHome  MeanCommute  Employed  PrivateWork  \\\n",
       "0  ...   1.8          1.8         6.5         25.8    9505.0         78.8   \n",
       "1  ...   1.6          2.2         2.5         27.6   24982.0         80.0   \n",
       "2  ...   2.6          1.8         4.5         22.0   13837.0         74.6   \n",
       "3  ...   1.5          2.8         6.9         20.4  214984.0         78.3   \n",
       "4  ...   2.8          0.4         6.2         22.3    3680.0         73.8   \n",
       "\n",
       "   PublicWork  SelfEmployed  FamilyWork  Unemployment  \n",
       "0        13.3           7.8         0.1           9.4  \n",
       "1        12.1           7.6         0.3           8.9  \n",
       "2        18.1           7.1         0.2           5.4  \n",
       "3        15.0           6.6         0.1           4.3  \n",
       "4        15.3          10.4         0.5           3.0  \n",
       "\n",
       "[5 rows x 51 columns]"
      ]
     },
     "execution_count": 1,
     "metadata": {},
     "output_type": "execute_result"
    }
   ],
   "source": [
    "# Import our dependencies\n",
    "from sklearn.model_selection import train_test_split\n",
    "from sklearn.preprocessing import StandardScaler,OneHotEncoder\n",
    "import pandas as pd\n",
    "import tensorflow as tf\n",
    "\n",
    "#  Import and read the county_statisitics.csv.\n",
    "import pandas as pd \n",
    "countyStats_df = pd.read_csv(\"./Resources/county_statistics.csv\")\n",
    "#application_df = pd.read_csv(\"/gdrive/MyDrive/21-Deep-Learning/Project/Resources/charity_data.csv\")\n",
    "countyStats_df.head()"
   ]
  },
  {
   "cell_type": "code",
   "execution_count": 2,
   "metadata": {},
   "outputs": [
    {
     "data": {
      "text/html": [
       "<div>\n",
       "<style scoped>\n",
       "    .dataframe tbody tr th:only-of-type {\n",
       "        vertical-align: middle;\n",
       "    }\n",
       "\n",
       "    .dataframe tbody tr th {\n",
       "        vertical-align: top;\n",
       "    }\n",
       "\n",
       "    .dataframe thead th {\n",
       "        text-align: right;\n",
       "    }\n",
       "</style>\n",
       "<table border=\"1\" class=\"dataframe\">\n",
       "  <thead>\n",
       "    <tr style=\"text-align: right;\">\n",
       "      <th></th>\n",
       "      <th>Unnamed: 0</th>\n",
       "      <th>county</th>\n",
       "      <th>state</th>\n",
       "      <th>percentage16_Donald_Trump</th>\n",
       "      <th>percentage16_Hillary_Clinton</th>\n",
       "      <th>total_votes16</th>\n",
       "      <th>votes16_Donald_Trump</th>\n",
       "      <th>votes16_Hillary_Clinton</th>\n",
       "      <th>percentage20_Donald_Trump</th>\n",
       "      <th>percentage20_Joe_Biden</th>\n",
       "      <th>...</th>\n",
       "      <th>Walk</th>\n",
       "      <th>OtherTransp</th>\n",
       "      <th>WorkAtHome</th>\n",
       "      <th>MeanCommute</th>\n",
       "      <th>Employed</th>\n",
       "      <th>PrivateWork</th>\n",
       "      <th>PublicWork</th>\n",
       "      <th>SelfEmployed</th>\n",
       "      <th>FamilyWork</th>\n",
       "      <th>Unemployment</th>\n",
       "    </tr>\n",
       "  </thead>\n",
       "  <tbody>\n",
       "    <tr>\n",
       "      <th>0</th>\n",
       "      <td>0</td>\n",
       "      <td>Abbeville</td>\n",
       "      <td>SC</td>\n",
       "      <td>0.629</td>\n",
       "      <td>0.346</td>\n",
       "      <td>10724.0</td>\n",
       "      <td>6742.0</td>\n",
       "      <td>3712.0</td>\n",
       "      <td>0.661</td>\n",
       "      <td>0.330</td>\n",
       "      <td>...</td>\n",
       "      <td>1.8</td>\n",
       "      <td>1.8</td>\n",
       "      <td>6.5</td>\n",
       "      <td>25.8</td>\n",
       "      <td>9505.0</td>\n",
       "      <td>78.8</td>\n",
       "      <td>13.3</td>\n",
       "      <td>7.8</td>\n",
       "      <td>0.1</td>\n",
       "      <td>9.4</td>\n",
       "    </tr>\n",
       "    <tr>\n",
       "      <th>1</th>\n",
       "      <td>1</td>\n",
       "      <td>Acadia</td>\n",
       "      <td>LA</td>\n",
       "      <td>0.773</td>\n",
       "      <td>0.206</td>\n",
       "      <td>27386.0</td>\n",
       "      <td>21159.0</td>\n",
       "      <td>5638.0</td>\n",
       "      <td>0.795</td>\n",
       "      <td>0.191</td>\n",
       "      <td>...</td>\n",
       "      <td>1.6</td>\n",
       "      <td>2.2</td>\n",
       "      <td>2.5</td>\n",
       "      <td>27.6</td>\n",
       "      <td>24982.0</td>\n",
       "      <td>80.0</td>\n",
       "      <td>12.1</td>\n",
       "      <td>7.6</td>\n",
       "      <td>0.3</td>\n",
       "      <td>8.9</td>\n",
       "    </tr>\n",
       "    <tr>\n",
       "      <th>2</th>\n",
       "      <td>2</td>\n",
       "      <td>Accomack</td>\n",
       "      <td>VA</td>\n",
       "      <td>0.545</td>\n",
       "      <td>0.428</td>\n",
       "      <td>15755.0</td>\n",
       "      <td>8582.0</td>\n",
       "      <td>6737.0</td>\n",
       "      <td>0.542</td>\n",
       "      <td>0.447</td>\n",
       "      <td>...</td>\n",
       "      <td>2.6</td>\n",
       "      <td>1.8</td>\n",
       "      <td>4.5</td>\n",
       "      <td>22.0</td>\n",
       "      <td>13837.0</td>\n",
       "      <td>74.6</td>\n",
       "      <td>18.1</td>\n",
       "      <td>7.1</td>\n",
       "      <td>0.2</td>\n",
       "      <td>5.4</td>\n",
       "    </tr>\n",
       "    <tr>\n",
       "      <th>3</th>\n",
       "      <td>3</td>\n",
       "      <td>Ada</td>\n",
       "      <td>ID</td>\n",
       "      <td>0.479</td>\n",
       "      <td>0.387</td>\n",
       "      <td>195587.0</td>\n",
       "      <td>93748.0</td>\n",
       "      <td>75676.0</td>\n",
       "      <td>0.504</td>\n",
       "      <td>0.465</td>\n",
       "      <td>...</td>\n",
       "      <td>1.5</td>\n",
       "      <td>2.8</td>\n",
       "      <td>6.9</td>\n",
       "      <td>20.4</td>\n",
       "      <td>214984.0</td>\n",
       "      <td>78.3</td>\n",
       "      <td>15.0</td>\n",
       "      <td>6.6</td>\n",
       "      <td>0.1</td>\n",
       "      <td>4.3</td>\n",
       "    </tr>\n",
       "    <tr>\n",
       "      <th>4</th>\n",
       "      <td>4</td>\n",
       "      <td>Adair</td>\n",
       "      <td>IA</td>\n",
       "      <td>0.653</td>\n",
       "      <td>0.300</td>\n",
       "      <td>3759.0</td>\n",
       "      <td>2456.0</td>\n",
       "      <td>1127.0</td>\n",
       "      <td>0.697</td>\n",
       "      <td>0.286</td>\n",
       "      <td>...</td>\n",
       "      <td>2.8</td>\n",
       "      <td>0.4</td>\n",
       "      <td>6.2</td>\n",
       "      <td>22.3</td>\n",
       "      <td>3680.0</td>\n",
       "      <td>73.8</td>\n",
       "      <td>15.3</td>\n",
       "      <td>10.4</td>\n",
       "      <td>0.5</td>\n",
       "      <td>3.0</td>\n",
       "    </tr>\n",
       "    <tr>\n",
       "      <th>...</th>\n",
       "      <td>...</td>\n",
       "      <td>...</td>\n",
       "      <td>...</td>\n",
       "      <td>...</td>\n",
       "      <td>...</td>\n",
       "      <td>...</td>\n",
       "      <td>...</td>\n",
       "      <td>...</td>\n",
       "      <td>...</td>\n",
       "      <td>...</td>\n",
       "      <td>...</td>\n",
       "      <td>...</td>\n",
       "      <td>...</td>\n",
       "      <td>...</td>\n",
       "      <td>...</td>\n",
       "      <td>...</td>\n",
       "      <td>...</td>\n",
       "      <td>...</td>\n",
       "      <td>...</td>\n",
       "      <td>...</td>\n",
       "      <td>...</td>\n",
       "    </tr>\n",
       "    <tr>\n",
       "      <th>3106</th>\n",
       "      <td>3106</td>\n",
       "      <td>Yuma</td>\n",
       "      <td>AZ</td>\n",
       "      <td>0.505</td>\n",
       "      <td>0.450</td>\n",
       "      <td>40759.0</td>\n",
       "      <td>20586.0</td>\n",
       "      <td>18336.0</td>\n",
       "      <td>0.523</td>\n",
       "      <td>0.461</td>\n",
       "      <td>...</td>\n",
       "      <td>2.4</td>\n",
       "      <td>1.8</td>\n",
       "      <td>3.0</td>\n",
       "      <td>19.6</td>\n",
       "      <td>74891.0</td>\n",
       "      <td>74.4</td>\n",
       "      <td>20.8</td>\n",
       "      <td>4.6</td>\n",
       "      <td>0.2</td>\n",
       "      <td>10.9</td>\n",
       "    </tr>\n",
       "    <tr>\n",
       "      <th>3107</th>\n",
       "      <td>3107</td>\n",
       "      <td>Yuma</td>\n",
       "      <td>CO</td>\n",
       "      <td>0.805</td>\n",
       "      <td>0.150</td>\n",
       "      <td>4664.0</td>\n",
       "      <td>3755.0</td>\n",
       "      <td>701.0</td>\n",
       "      <td>0.826</td>\n",
       "      <td>0.156</td>\n",
       "      <td>...</td>\n",
       "      <td>6.5</td>\n",
       "      <td>0.3</td>\n",
       "      <td>10.5</td>\n",
       "      <td>15.7</td>\n",
       "      <td>4940.0</td>\n",
       "      <td>71.6</td>\n",
       "      <td>15.5</td>\n",
       "      <td>12.4</td>\n",
       "      <td>0.5</td>\n",
       "      <td>2.4</td>\n",
       "    </tr>\n",
       "    <tr>\n",
       "      <th>3108</th>\n",
       "      <td>3108</td>\n",
       "      <td>Zapata</td>\n",
       "      <td>TX</td>\n",
       "      <td>0.328</td>\n",
       "      <td>0.656</td>\n",
       "      <td>3134.0</td>\n",
       "      <td>1028.0</td>\n",
       "      <td>2056.0</td>\n",
       "      <td>0.525</td>\n",
       "      <td>0.471</td>\n",
       "      <td>...</td>\n",
       "      <td>4.4</td>\n",
       "      <td>0.6</td>\n",
       "      <td>2.0</td>\n",
       "      <td>18.2</td>\n",
       "      <td>5146.0</td>\n",
       "      <td>66.0</td>\n",
       "      <td>21.0</td>\n",
       "      <td>12.6</td>\n",
       "      <td>0.4</td>\n",
       "      <td>12.4</td>\n",
       "    </tr>\n",
       "    <tr>\n",
       "      <th>3109</th>\n",
       "      <td>3109</td>\n",
       "      <td>Zavala</td>\n",
       "      <td>TX</td>\n",
       "      <td>0.204</td>\n",
       "      <td>0.777</td>\n",
       "      <td>3390.0</td>\n",
       "      <td>692.0</td>\n",
       "      <td>2633.0</td>\n",
       "      <td>0.340</td>\n",
       "      <td>0.654</td>\n",
       "      <td>...</td>\n",
       "      <td>2.1</td>\n",
       "      <td>4.2</td>\n",
       "      <td>5.4</td>\n",
       "      <td>13.7</td>\n",
       "      <td>4397.0</td>\n",
       "      <td>73.9</td>\n",
       "      <td>21.2</td>\n",
       "      <td>4.9</td>\n",
       "      <td>0.1</td>\n",
       "      <td>10.1</td>\n",
       "    </tr>\n",
       "    <tr>\n",
       "      <th>3110</th>\n",
       "      <td>3110</td>\n",
       "      <td>Ziebach</td>\n",
       "      <td>SD</td>\n",
       "      <td>0.480</td>\n",
       "      <td>0.460</td>\n",
       "      <td>766.0</td>\n",
       "      <td>368.0</td>\n",
       "      <td>352.0</td>\n",
       "      <td>0.446</td>\n",
       "      <td>0.531</td>\n",
       "      <td>...</td>\n",
       "      <td>4.3</td>\n",
       "      <td>3.4</td>\n",
       "      <td>25.9</td>\n",
       "      <td>22.8</td>\n",
       "      <td>967.0</td>\n",
       "      <td>32.1</td>\n",
       "      <td>48.2</td>\n",
       "      <td>18.4</td>\n",
       "      <td>1.3</td>\n",
       "      <td>27.0</td>\n",
       "    </tr>\n",
       "  </tbody>\n",
       "</table>\n",
       "<p>3046 rows × 51 columns</p>\n",
       "</div>"
      ],
      "text/plain": [
       "      Unnamed: 0     county state  percentage16_Donald_Trump  \\\n",
       "0              0  Abbeville    SC                      0.629   \n",
       "1              1     Acadia    LA                      0.773   \n",
       "2              2   Accomack    VA                      0.545   \n",
       "3              3        Ada    ID                      0.479   \n",
       "4              4      Adair    IA                      0.653   \n",
       "...          ...        ...   ...                        ...   \n",
       "3106        3106       Yuma    AZ                      0.505   \n",
       "3107        3107       Yuma    CO                      0.805   \n",
       "3108        3108     Zapata    TX                      0.328   \n",
       "3109        3109     Zavala    TX                      0.204   \n",
       "3110        3110    Ziebach    SD                      0.480   \n",
       "\n",
       "      percentage16_Hillary_Clinton  total_votes16  votes16_Donald_Trump  \\\n",
       "0                            0.346        10724.0                6742.0   \n",
       "1                            0.206        27386.0               21159.0   \n",
       "2                            0.428        15755.0                8582.0   \n",
       "3                            0.387       195587.0               93748.0   \n",
       "4                            0.300         3759.0                2456.0   \n",
       "...                            ...            ...                   ...   \n",
       "3106                         0.450        40759.0               20586.0   \n",
       "3107                         0.150         4664.0                3755.0   \n",
       "3108                         0.656         3134.0                1028.0   \n",
       "3109                         0.777         3390.0                 692.0   \n",
       "3110                         0.460          766.0                 368.0   \n",
       "\n",
       "      votes16_Hillary_Clinton  percentage20_Donald_Trump  \\\n",
       "0                      3712.0                      0.661   \n",
       "1                      5638.0                      0.795   \n",
       "2                      6737.0                      0.542   \n",
       "3                     75676.0                      0.504   \n",
       "4                      1127.0                      0.697   \n",
       "...                       ...                        ...   \n",
       "3106                  18336.0                      0.523   \n",
       "3107                    701.0                      0.826   \n",
       "3108                   2056.0                      0.525   \n",
       "3109                   2633.0                      0.340   \n",
       "3110                    352.0                      0.446   \n",
       "\n",
       "      percentage20_Joe_Biden  ...  Walk  OtherTransp  WorkAtHome  MeanCommute  \\\n",
       "0                      0.330  ...   1.8          1.8         6.5         25.8   \n",
       "1                      0.191  ...   1.6          2.2         2.5         27.6   \n",
       "2                      0.447  ...   2.6          1.8         4.5         22.0   \n",
       "3                      0.465  ...   1.5          2.8         6.9         20.4   \n",
       "4                      0.286  ...   2.8          0.4         6.2         22.3   \n",
       "...                      ...  ...   ...          ...         ...          ...   \n",
       "3106                   0.461  ...   2.4          1.8         3.0         19.6   \n",
       "3107                   0.156  ...   6.5          0.3        10.5         15.7   \n",
       "3108                   0.471  ...   4.4          0.6         2.0         18.2   \n",
       "3109                   0.654  ...   2.1          4.2         5.4         13.7   \n",
       "3110                   0.531  ...   4.3          3.4        25.9         22.8   \n",
       "\n",
       "      Employed  PrivateWork  PublicWork  SelfEmployed  FamilyWork  \\\n",
       "0       9505.0         78.8        13.3           7.8         0.1   \n",
       "1      24982.0         80.0        12.1           7.6         0.3   \n",
       "2      13837.0         74.6        18.1           7.1         0.2   \n",
       "3     214984.0         78.3        15.0           6.6         0.1   \n",
       "4       3680.0         73.8        15.3          10.4         0.5   \n",
       "...        ...          ...         ...           ...         ...   \n",
       "3106   74891.0         74.4        20.8           4.6         0.2   \n",
       "3107    4940.0         71.6        15.5          12.4         0.5   \n",
       "3108    5146.0         66.0        21.0          12.6         0.4   \n",
       "3109    4397.0         73.9        21.2           4.9         0.1   \n",
       "3110     967.0         32.1        48.2          18.4         1.3   \n",
       "\n",
       "      Unemployment  \n",
       "0              9.4  \n",
       "1              8.9  \n",
       "2              5.4  \n",
       "3              4.3  \n",
       "4              3.0  \n",
       "...            ...  \n",
       "3106          10.9  \n",
       "3107           2.4  \n",
       "3108          12.4  \n",
       "3109          10.1  \n",
       "3110          27.0  \n",
       "\n",
       "[3046 rows x 51 columns]"
      ]
     },
     "execution_count": 2,
     "metadata": {},
     "output_type": "execute_result"
    }
   ],
   "source": [
    "countyStats_df.dropna(inplace=True)\n",
    "countyStats_df"
   ]
  },
  {
   "cell_type": "code",
   "execution_count": null,
   "metadata": {},
   "outputs": [],
   "source": [
    "countyStats_df.columns"
   ]
  },
  {
   "cell_type": "code",
   "execution_count": null,
   "metadata": {
    "colab": {
     "base_uri": "https://localhost:8080/",
     "height": 206
    },
    "executionInfo": {
     "elapsed": 287,
     "status": "ok",
     "timestamp": 1676937651210,
     "user": {
      "displayName": "Huntley Bodden",
      "userId": "05864062053823960492"
     },
     "user_tz": 300
    },
    "id": "Mw7Utjq-SjAV",
    "outputId": "d27d8725-9c31-49fc-eef4-4454a3093d44"
   },
   "outputs": [],
   "source": [
    "# Drop the non-beneficial ID columns, 'EIN' and 'NAME'.\n",
    "countyStats_df.drop(columns=['Unnamed: 0','state','percentage16_Hillary_Clinton',\n",
    "       'total_votes16', 'percentage20_Donald_Trump','lat', 'long',\n",
    "       'percentage20_Joe_Biden', 'total_votes20', 'votes20_Donald_Trump',\n",
    "       'votes20_Joe_Biden'], inplace =True)\n",
    "countyStats_df.head()"
   ]
  },
  {
   "cell_type": "code",
   "execution_count": null,
   "metadata": {
    "colab": {
     "base_uri": "https://localhost:8080/"
    },
    "executionInfo": {
     "elapsed": 359,
     "status": "ok",
     "timestamp": 1676937653816,
     "user": {
      "displayName": "Huntley Bodden",
      "userId": "05864062053823960492"
     },
     "user_tz": 300
    },
    "id": "3moTELHNSjAW",
    "outputId": "06b05fb9-f2a6-4a1f-e820-11a69933ad63"
   },
   "outputs": [],
   "source": [
    "# Determine the number of unique values in each column.\n",
    "#application_df.nunique()"
   ]
  },
  {
   "cell_type": "code",
   "execution_count": null,
   "metadata": {
    "colab": {
     "base_uri": "https://localhost:8080/"
    },
    "executionInfo": {
     "elapsed": 260,
     "status": "ok",
     "timestamp": 1676937656360,
     "user": {
      "displayName": "Huntley Bodden",
      "userId": "05864062053823960492"
     },
     "user_tz": 300
    },
    "id": "IGwYz66ySjAW",
    "outputId": "247a57a5-5c81-4af8-fbfa-380c9762410f"
   },
   "outputs": [],
   "source": [
    "# Look at APPLICATION_TYPE value counts for binning\n",
    "#application_df['APPLICATION_TYPE'].value_counts()"
   ]
  },
  {
   "cell_type": "code",
   "execution_count": null,
   "metadata": {},
   "outputs": [],
   "source": [
    "# Choose a cutoff value and create a list of application types to be replaced\n",
    "# use the variable name `application_types_to_replace`\n",
    "# app_type = application_df['APPLICATION_TYPE'].value_counts()\n",
    "\n",
    "# x = [app_type[(app_type < 67)] ]\n",
    "# x = pd.DataFrame(x)\n",
    "# y = x.columns\n",
    "\n",
    "# application_types_to_replace = []\n",
    "# for item in y:\n",
    "#   application_types_to_replace.append(item)\n",
    "\n",
    "# application_types_to_replace"
   ]
  },
  {
   "cell_type": "code",
   "execution_count": null,
   "metadata": {
    "colab": {
     "base_uri": "https://localhost:8080/"
    },
    "executionInfo": {
     "elapsed": 503,
     "status": "ok",
     "timestamp": 1676937661380,
     "user": {
      "displayName": "Huntley Bodden",
      "userId": "05864062053823960492"
     },
     "user_tz": 300
    },
    "id": "zQO8go3_SjAX",
    "outputId": "3a44622c-d6d6-417a-b26e-609cc0cea66e"
   },
   "outputs": [],
   "source": [
    "# Replace in dataframe\n",
    "# for app in application_types_to_replace:\n",
    "#     application_df['APPLICATION_TYPE'] = application_df['APPLICATION_TYPE'].replace(app,\"Other\")\n",
    "\n",
    "# # Check to make sure binning was successful\n",
    "# application_df['APPLICATION_TYPE'].value_counts()"
   ]
  },
  {
   "cell_type": "code",
   "execution_count": null,
   "metadata": {
    "colab": {
     "base_uri": "https://localhost:8080/"
    },
    "executionInfo": {
     "elapsed": 272,
     "status": "ok",
     "timestamp": 1676937664011,
     "user": {
      "displayName": "Huntley Bodden",
      "userId": "05864062053823960492"
     },
     "user_tz": 300
    },
    "id": "DzmRrHoASjAX",
    "outputId": "d5a104ce-a230-480d-e874-7d97982dc1d9"
   },
   "outputs": [],
   "source": [
    "# Look at CLASSIFICATION value counts for binning\n",
    "# class_counts = application_df['CLASSIFICATION'].value_counts()\n",
    "# class_counts"
   ]
  },
  {
   "cell_type": "code",
   "execution_count": null,
   "metadata": {
    "colab": {
     "base_uri": "https://localhost:8080/"
    },
    "executionInfo": {
     "elapsed": 268,
     "status": "ok",
     "timestamp": 1676937666519,
     "user": {
      "displayName": "Huntley Bodden",
      "userId": "05864062053823960492"
     },
     "user_tz": 300
    },
    "id": "f5dxEKT45fd2",
    "outputId": "2ad8b2ae-df99-4726-899c-b1bf7ec5d5ca"
   },
   "outputs": [],
   "source": [
    "# You may find it helpful to look at CLASSIFICATION value counts >1\n",
    "#class_counts[class_counts > 1]"
   ]
  },
  {
   "cell_type": "code",
   "execution_count": null,
   "metadata": {
    "colab": {
     "base_uri": "https://localhost:8080/"
    },
    "executionInfo": {
     "elapsed": 279,
     "status": "ok",
     "timestamp": 1676938032643,
     "user": {
      "displayName": "Huntley Bodden",
      "userId": "05864062053823960492"
     },
     "user_tz": 300
    },
    "id": "SQrJGy2TSjAY",
    "outputId": "b5744b47-77f8-489e-f500-1adfa9f57f47"
   },
   "outputs": [],
   "source": [
    "# You may find it helpful to look at CLASSIFICATION value counts >1\n",
    "# Selecting the range to be binned \n",
    "# x = [class_counts[(class_counts < 1000)] ]\n",
    "# x = pd.DataFrame(x)\n",
    "# y = x.columns\n",
    "\n",
    "# classifications_to_replace = []\n",
    "# for item in y:\n",
    "#   classifications_to_replace.append(item)\n",
    "\n",
    "# classifications_to_replace"
   ]
  },
  {
   "cell_type": "code",
   "execution_count": null,
   "metadata": {
    "colab": {
     "base_uri": "https://localhost:8080/"
    },
    "executionInfo": {
     "elapsed": 302,
     "status": "ok",
     "timestamp": 1676937929855,
     "user": {
      "displayName": "Huntley Bodden",
      "userId": "05864062053823960492"
     },
     "user_tz": 300
    },
    "id": "s8Kbrht0SjAY",
    "outputId": "c4699cea-3ea5-4b89-a644-e7b9a9bfc4c0"
   },
   "outputs": [],
   "source": [
    "# Choose a cutoff value and create a list of classifications to be replaced\n",
    "# use the variable name `classifications_to_replace`\n",
    "\n",
    "# Replace in dataframe\n",
    "# for cls in classifications_to_replace:\n",
    "#     application_df['CLASSIFICATION'] = application_df['CLASSIFICATION'].replace(cls,\"Other\")\n",
    "    \n",
    "# # Check to make sure binning was successful\n",
    "# application_df['CLASSIFICATION'].value_counts()"
   ]
  },
  {
   "cell_type": "code",
   "execution_count": null,
   "metadata": {
    "colab": {
     "base_uri": "https://localhost:8080/"
    },
    "executionInfo": {
     "elapsed": 826,
     "status": "ok",
     "timestamp": 1676938214376,
     "user": {
      "displayName": "Huntley Bodden",
      "userId": "05864062053823960492"
     },
     "user_tz": 300
    },
    "id": "aBg_FeNVuuj_",
    "outputId": "c8e0781e-224f-49de-efa2-932196583a0f"
   },
   "outputs": [],
   "source": [
    "#countyStats_df.dtypes"
   ]
  },
  {
   "cell_type": "code",
   "execution_count": null,
   "metadata": {},
   "outputs": [],
   "source": [
    "# Generate our categorical variable lists\n",
    "attrition_cat = countyStats_df.dtypes[countyStats_df.dtypes == \"object\"].index.tolist()\n",
    "attrition_cat"
   ]
  },
  {
   "cell_type": "code",
   "execution_count": null,
   "metadata": {},
   "outputs": [],
   "source": [
    "# Create a OneHotEncoder instance\n",
    "enc = OneHotEncoder(sparse=False)\n",
    "\n",
    "# Fit and transform the OneHotEncoder using the categorical variable list\n",
    "encode_df = pd.DataFrame(enc.fit_transform(countyStats_df[attrition_cat]))\n",
    "\n",
    "# Add the encoded variable names to the dataframe\n",
    "encode_df.columns = enc.get_feature_names(attrition_cat)\n",
    "encode_df.head()"
   ]
  },
  {
   "cell_type": "code",
   "execution_count": null,
   "metadata": {},
   "outputs": [],
   "source": [
    "# Merge one-hot encoded features and drop the originals\n",
    "countyStats_df = countyStats_df.merge(encode_df,left_index=True, right_index=True)\n",
    "countyStats_df = countyStats_df.drop(attrition_cat,1)\n",
    "countyStats_df.head()"
   ]
  },
  {
   "cell_type": "code",
   "execution_count": null,
   "metadata": {
    "colab": {
     "base_uri": "https://localhost:8080/",
     "height": 317
    },
    "executionInfo": {
     "elapsed": 323,
     "status": "ok",
     "timestamp": 1676938348627,
     "user": {
      "displayName": "Huntley Bodden",
      "userId": "05864062053823960492"
     },
     "user_tz": 300
    },
    "id": "LGX_k5WzSjAa",
    "outputId": "1b3b78a6-0b26-47a9-b626-a60ef1a58413"
   },
   "outputs": [],
   "source": [
    "# Convert categorical data to numeric with `pd.get_dummies\n",
    "# countyStats_df = pd.get_dummies(countyStats_df)\n",
    "# countyStats_df.head()"
   ]
  },
  {
   "cell_type": "code",
   "execution_count": null,
   "metadata": {
    "executionInfo": {
     "elapsed": 3,
     "status": "ok",
     "timestamp": 1676938351074,
     "user": {
      "displayName": "Huntley Bodden",
      "userId": "05864062053823960492"
     },
     "user_tz": 300
    },
    "id": "ZtXrZaNHSjAa"
   },
   "outputs": [],
   "source": [
    "# Split our preprocessed data into our features and target arrays\n",
    "y = countyStats_df['votes16_Donald_Trump'].values\n",
    "X = countyStats_df.drop(columns=['votes16_Donald_Trump'], axis=1).values\n",
    "\n",
    "# y = myopia_df.MYOPIC.values\n",
    "# X = myopia_df.drop(columns=\"MYOPIC\").values\n",
    "\n",
    "# Split the preprocessed data into a training and testing dataset\n",
    "X_train, X_test, y_train, y_test = train_test_split(X, y, random_state=50)"
   ]
  },
  {
   "cell_type": "code",
   "execution_count": null,
   "metadata": {
    "executionInfo": {
     "elapsed": 291,
     "status": "ok",
     "timestamp": 1676938354021,
     "user": {
      "displayName": "Huntley Bodden",
      "userId": "05864062053823960492"
     },
     "user_tz": 300
    },
    "id": "N1X_ncvgSjAb"
   },
   "outputs": [],
   "source": [
    "# Create a StandardScaler instances\n",
    "scaler = StandardScaler()\n",
    "\n",
    "# Fit the StandardScaler\n",
    "X_scaler = scaler.fit(X_train)\n",
    "\n",
    "# Scale the data\n",
    "X_train_scaled = X_scaler.transform(X_train)\n",
    "X_test_scaled = X_scaler.transform(X_test)"
   ]
  },
  {
   "cell_type": "markdown",
   "metadata": {
    "id": "TQMxX-jGSjAb"
   },
   "source": [
    "## Compile, Train and Evaluate the Model"
   ]
  },
  {
   "cell_type": "code",
   "execution_count": null,
   "metadata": {
    "colab": {
     "base_uri": "https://localhost:8080/"
    },
    "executionInfo": {
     "elapsed": 689,
     "status": "ok",
     "timestamp": 1676938357406,
     "user": {
      "displayName": "Huntley Bodden",
      "userId": "05864062053823960492"
     },
     "user_tz": 300
    },
    "id": "NiociraiSjAc",
    "outputId": "8bd2d140-0434-465e-90e3-09acf2bd5c36"
   },
   "outputs": [],
   "source": [
    "# Define the model - deep neural net, i.e., the number of input features and hidden nodes for each layer.\n",
    "number_input_features = len(X_train[0])\n",
    "hidden_nodes_layer1 =  10\n",
    "hidden_nodes_layer2 = 6\n",
    "\n",
    "nn = tf.keras.models.Sequential()\n",
    "\n",
    "# First hidden layer\n",
    "nn.add(tf.keras.layers.Dense(units=hidden_nodes_layer1, activation=\"relu\", input_dim=number_input_features))\n",
    "\n",
    "# Second hidden layer\n",
    "nn.add(tf.keras.layers.Dense(units=hidden_nodes_layer2, activation=\"relu\"))\n",
    "\n",
    "# Output layer\n",
    "nn.add(tf.keras.layers.Dense(units=1, activation=\"sigmoid\"))\n",
    "\n",
    "# Check the structure of the model\n",
    "nn.summary()"
   ]
  },
  {
   "cell_type": "code",
   "execution_count": null,
   "metadata": {
    "executionInfo": {
     "elapsed": 527,
     "status": "ok",
     "timestamp": 1676938382737,
     "user": {
      "displayName": "Huntley Bodden",
      "userId": "05864062053823960492"
     },
     "user_tz": 300
    },
    "id": "i1SH2SweSjAc"
   },
   "outputs": [],
   "source": [
    "# Compile the model\n",
    "nn.compile(loss=\"binary_crossentropy\", optimizer=\"adam\", metrics=[\"accuracy\"])"
   ]
  },
  {
   "cell_type": "code",
   "execution_count": null,
   "metadata": {
    "colab": {
     "base_uri": "https://localhost:8080/",
     "height": 356
    },
    "executionInfo": {
     "elapsed": 324,
     "status": "error",
     "timestamp": 1676939094650,
     "user": {
      "displayName": "Huntley Bodden",
      "userId": "05864062053823960492"
     },
     "user_tz": 300
    },
    "id": "8W7Nfgu0VZ6x",
    "outputId": "fe20c65b-a2cb-4c01-cc44-56a7fe0eabb7"
   },
   "outputs": [],
   "source": [
    "# Create a callback that saves the model's weights every five epochs\n",
    "import os \n",
    "from tensorflow.keras.callbacks import ModelCheckpoint\n",
    "\n",
    "os.makedirs('check_points/', exist_ok=True)\n",
    "path = 'check_points/weights.{epoch:02d}.hdf5'\n",
    "\n",
    "cp_callback = ModelCheckpoint(filepath = path, save_weights_only = True, save_freq = 5)\n",
    "\n",
    "\n"
   ]
  },
  {
   "cell_type": "code",
   "execution_count": null,
   "metadata": {
    "colab": {
     "base_uri": "https://localhost:8080/"
    },
    "executionInfo": {
     "elapsed": 143435,
     "status": "ok",
     "timestamp": 1676938527603,
     "user": {
      "displayName": "Huntley Bodden",
      "userId": "05864062053823960492"
     },
     "user_tz": 300
    },
    "id": "sTq4_PFLSjAd",
    "outputId": "da5ae5c7-57c0-40c3-b6f7-4ce5ce18b885"
   },
   "outputs": [],
   "source": [
    "# Train the model\n",
    "fit_model = nn.fit(X_train_scaled,y_train,epochs=100, callbacks= [cp_callback])"
   ]
  },
  {
   "cell_type": "code",
   "execution_count": null,
   "metadata": {
    "colab": {
     "base_uri": "https://localhost:8080/"
    },
    "executionInfo": {
     "elapsed": 934,
     "status": "ok",
     "timestamp": 1676938533931,
     "user": {
      "displayName": "Huntley Bodden",
      "userId": "05864062053823960492"
     },
     "user_tz": 300
    },
    "id": "OYHE_e_fSjAd",
    "outputId": "12e8ceb2-a8f0-4086-80bb-3558cf4a7d79"
   },
   "outputs": [],
   "source": [
    "# Evaluate the model using the test data\n",
    "model_loss, model_accuracy = nn.evaluate(X_test_scaled,y_test,verbose=2)\n",
    "print(f\"Loss: {model_loss}, Accuracy: {model_accuracy}\")"
   ]
  },
  {
   "cell_type": "code",
   "execution_count": null,
   "metadata": {
    "colab": {
     "base_uri": "https://localhost:8080/",
     "height": 450
    },
    "executionInfo": {
     "elapsed": 165,
     "status": "error",
     "timestamp": 1676931183785,
     "user": {
      "displayName": "Huntley Bodden",
      "userId": "05864062053823960492"
     },
     "user_tz": 300
    },
    "id": "8Ji4q-l3SjAd",
    "outputId": "b573a175-13e9-4340-b9ff-cbad012b208f"
   },
   "outputs": [],
   "source": [
    "# Export our model to HDF5 file\n",
    "from keras.models import load_model\n",
    "nn.save('AlphabetSoupCharity.h5') "
   ]
  },
  {
   "cell_type": "code",
   "execution_count": null,
   "metadata": {},
   "outputs": [],
   "source": [
    "import matplotlib.pyplot as plt\n",
    "%matplotlib inline\n",
    "\n",
    "df = pd.DataFrame(fit_model.history)\n",
    "\n",
    "df.index+=1 \n",
    "\n",
    "df.plot(y='accuracy')\n",
    "plt.show()"
   ]
  }
 ],
 "metadata": {
  "colab": {
   "provenance": []
  },
  "kernelspec": {
   "display_name": "PythonData",
   "language": "python",
   "name": "pythondata"
  },
  "language_info": {
   "codemirror_mode": {
    "name": "ipython",
    "version": 3
   },
   "file_extension": ".py",
   "mimetype": "text/x-python",
   "name": "python",
   "nbconvert_exporter": "python",
   "pygments_lexer": "ipython3",
   "version": "3.7.7"
  },
  "vscode": {
   "interpreter": {
    "hash": "edc5c2b105fc204b3a27344d1b237b3bf58a80cbd99bbc71b1e3c7c92e0e6197"
   }
  }
 },
 "nbformat": 4,
 "nbformat_minor": 1
}
